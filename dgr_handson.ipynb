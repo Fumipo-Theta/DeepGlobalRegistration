{
 "cells": [
  {
   "cell_type": "code",
   "execution_count": 1,
   "id": "243ecc97-2661-4594-a989-5719e680983b",
   "metadata": {},
   "outputs": [
    {
     "name": "stdout",
     "output_type": "stream",
     "text": [
      "Jupyter environment detected. Enabling Open3D WebVisualizer.\n",
      "[Open3D INFO] WebRTC GUI backend enabled.\n",
      "[Open3D INFO] WebRTCWindowSystem: HTTP handshake server disabled.\n"
     ]
    },
    {
     "name": "stderr",
     "output_type": "stream",
     "text": [
      "/home/fmorisato/.local/lib/python3.9/site-packages/MinkowskiEngine/__init__.py:36: UserWarning: The environment variable `OMP_NUM_THREADS` not set. MinkowskiEngine will automatically set `OMP_NUM_THREADS=16`. If you want to set `OMP_NUM_THREADS` manually, please export it on the command line before running a python script. e.g. `export OMP_NUM_THREADS=12; python your_program.py`. It is recommended to set it below 24.\n",
      "  warnings.warn(\n"
     ]
    }
   ],
   "source": [
    "import os\n",
    "from urllib.request import urlretrieve\n",
    "\n",
    "import open3d as o3d\n",
    "from core.deep_global_registration import DeepGlobalRegistration\n",
    "from config_constant import get_config"
   ]
  },
  {
   "cell_type": "code",
   "execution_count": 2,
   "id": "767b52a4-6bba-4c2d-b24e-22f3f815d0eb",
   "metadata": {},
   "outputs": [],
   "source": [
    "BASE_URL = \"http://node2.chrischoy.org/data/\"\n",
    "DOWNLOAD_LIST = [\n",
    "    (BASE_URL + \"datasets/registration/\", \"redkitchen_000.ply\"),\n",
    "    (BASE_URL + \"datasets/registration/\", \"redkitchen_010.ply\"),\n",
    "    (BASE_URL + \"projects/DGR/\", \"ResUNetBN2C-feat32-3dmatch-v0.05.pth\")\n",
    "]\n",
    "\n",
    "# Check if the weights and file exist and download\n",
    "if not os.path.isfile('redkitchen_000.ply'):\n",
    "    print('Downloading weights and pointcloud files...')\n",
    "    for f in DOWNLOAD_LIST:\n",
    "        print(f\"Downloading {f}\")\n",
    "        urlretrieve(f[0] + f[1], f[1])"
   ]
  },
  {
   "cell_type": "code",
   "execution_count": 12,
   "id": "a645b5eb-36f8-4ec9-92f6-6c77d5c818dd",
   "metadata": {},
   "outputs": [],
   "source": [
    "import copy\n",
    "import numpy as np\n",
    "import pandas as pd\n",
    "from pathlib import Path\n",
    "from scipy.spatial import cKDTree\n",
    "from tqdm import tqdm\n",
    "from structured_plot import Figure, Subplot, plot_action as pa"
   ]
  },
  {
   "cell_type": "code",
   "execution_count": 4,
   "id": "621afc24-1aab-42b6-acd9-8bb612bf5295",
   "metadata": {},
   "outputs": [],
   "source": [
    "def _make_circle(center, radius):\n",
    "    return [\n",
    "        [radius * np.cos(t / 180 * np.pi) + center[0], radius * np.sin(t / 180 * np.pi) + center[1], 0] for t in np.arange(0, 360, 10)\n",
    "    ]\n",
    "\n",
    "def crop_pcd_by_cylinder(pcd, center, radius):\n",
    "    crop = o3d.visualization.SelectionPolygonVolume()\n",
    "    crop.orthogonal_axis = \"z\"\n",
    "    crop.axis_min = -10\n",
    "    crop.axis_max = 10\n",
    "    crop.bounding_polygon = o3d.utility.Vector3dVector(np.array(_make_circle(center, radius)))\n",
    "    return crop.crop_point_cloud(pcd)\n",
    "\n",
    "def registration_as_reference(source, target, voxel_size, bbox_center, bbox_radius):\n",
    "    source_down = source.voxel_down_sample(voxel_size)\n",
    "    target_down = target.voxel_down_sample(voxel_size)\n",
    "    \n",
    "    # Registration with subset of the target pointcloud to increase success rate\n",
    "    target_subset = crop_pcd_by_cylinder(target, bbox_center, bbox_radius)\n",
    "    target_down_subset = crop_pcd_by_cylinder(target_down, bbox_center, bbox_radius)\n",
    "    \n",
    "    source_down.estimate_normals(o3d.geometry.KDTreeSearchParamHybrid(radius=1, max_nn=100))\n",
    "    target_down_subset.estimate_normals(o3d.geometry.KDTreeSearchParamHybrid(radius=1, max_nn=100))\n",
    "    target_subset.estimate_normals(o3d.geometry.KDTreeSearchParamHybrid(radius=1, max_nn=100))\n",
    "\n",
    "    # This is reference, so we use fixed parameters\n",
    "    gr_params = dict(\n",
    "        radius_normal=1, radius_feature=5, max_nn_normal=100, max_nn_feature=500, distance_threshold=voxel_size * 2\n",
    "    )\n",
    "    result = registration(source_down, target_down_subset, **gr_params)\n",
    "    return result, source_down, target_down, target_down_subset, target_subset"
   ]
  },
  {
   "cell_type": "code",
   "execution_count": 5,
   "id": "208f69a2-4869-42ed-aaf8-33d3c7512c5f",
   "metadata": {},
   "outputs": [],
   "source": [
    "import torch\n",
    "\n",
    "def _pcd2xyz(pcd):\n",
    "    return np.asarray(pcd.points).T\n",
    "\n",
    "def _find_knn_cpu(array0, array1, knn=1, return_distance=False):\n",
    "    \"\"\"\n",
    "    array0: [[0, 0, 0],[1, 0, 0],...]\n",
    "    array1: [[0, 0, 0],[0, 0, 1],...]\n",
    "    \n",
    "    array0 の各行に対し、\n",
    "    knn=1 => [[0], [1], [2], ...]: array1 のうち最も距離が近い点の index を返す\n",
    "    knn=2 => [[0, 16], [1, 7], [2, 4], ...]: array1 のうち最も距離が近い2点の index からなる配列の組を返す\n",
    "    \n",
    "    return_distance=True のとき、\n",
    "    knn=1 => ([[0], [1], [2], ...], [[0.1], [0.1], [0.2], ...]): array1 のうち最も距離が近い点のindexと距離を返す\n",
    "    knn=2 => ([[0, 16], [1, 7], [2, 4], ...], [[0.1, 0.16], [0.1, 0.7], [0.2, 0.4], ...]):\n",
    "        array1 のうち最も距離が近い2点のindexからなる配列と、距離からなる配列の組を返す\n",
    "    \"\"\"\n",
    "    array1tree = cKDTree(array1)\n",
    "    dists, nn_inds = array1tree.query(array0, k=knn, workers=-1)\n",
    "    if knn == 1:\n",
    "        dists = np.array([dists]).T\n",
    "        nn_inds = np.array([nn_inds]).T\n",
    "\n",
    "    if return_distance:\n",
    "        return nn_inds, dists\n",
    "    else:\n",
    "        return nn_inds\n",
    "    \n",
    "def _find_correspondences(array0, array1, knn=1, mutual_filter=True):\n",
    "    \"\"\"\n",
    "    array0: [[0, 0, 0],[1, 0, 0],...]\n",
    "    array1: [[0, 0, 0],[0, 0, 1],...]\n",
    "    \n",
    "    Returns 3 arrays\n",
    "    - corres_idx0: array of index of the points of the source point cloud\n",
    "        e.g. [[1], [2], [4], ...]\n",
    "        \n",
    "    - corres_idx1: array of indices of the points of the target point cloud,\n",
    "        corresponding to the source points\n",
    "        e.g. \n",
    "            - knn = 1: [[344], [445], [2], ...]\n",
    "            - knn = 2: [[344, 566], [445, 12], [2, 22], ...]\n",
    "    - distances\n",
    "    \"\"\"\n",
    "    \n",
    "    nns01, dist01 = _find_knn_cpu(array0, array1, knn=knn, return_distance=True)\n",
    "    corres01_idx0 = np.arange(len(nns01))\n",
    "    corres01_idx1 = nns01\n",
    "\n",
    "    if not mutual_filter:\n",
    "        return np.array([corres01_idx0]).T, corres01_idx1, dist01\n",
    "\n",
    "    nns10 = _find_knn_cpu(array1, array0, knn=knn, return_distance=False)\n",
    "    corres10_idx1 = np.arange(len(nns10))\n",
    "    corres10_idx0 = nns10\n",
    "\n",
    "    mutual_filter = (corres10_idx0[corres01_idx1[:,0], 0] == corres01_idx0)\n",
    "    corres_idx0 = corres01_idx0[mutual_filter]\n",
    "    corres_idx1 = corres01_idx1[mutual_filter]\n",
    "    corres_dist = dist01[mutual_filter]\n",
    "\n",
    "    return np.array([corres_idx0]).T, corres_idx1, corres_dist\n",
    "\n",
    "def extract_correspondence_FCGF_set(source, target, dgr, mutual_filter=False):\n",
    "    source_down, coords0, feats0 = dgr.preprocess(source)\n",
    "    target_down, coords1, feats1 = dgr.preprocess(target)\n",
    "\n",
    "    # Step 1: Feature extraction\n",
    "    fcgf_feats0 = dgr.fcgf_feature_extraction(feats0, coords0)\n",
    "    fcgf_feats1 = dgr.fcgf_feature_extraction(feats1, coords1)\n",
    "\n",
    "    corres_0_idx, corres_1_idx, dist = _find_correspondences(fcgf_feats0.cpu().detach().numpy(), fcgf_feats1.cpu().detach().numpy(), knn=1, mutual_filter=mutual_filter)\n",
    "   \n",
    "    return corres_0_idx, corres_1_idx, dist\n",
    "\n",
    "\n",
    "def validate_correspondence_by_distance(corres_indices, distances, threshold):\n",
    "    \"\"\"\n",
    "    Update indices whose distance are larger than the threshold to -1\n",
    "    (integer type array cannot contain np.nan)\n",
    "    \"\"\"\n",
    "    corres_indices[distances >= threshold] = -1\n",
    "    return corres_indices\n",
    "\n",
    "def validate_correspondence_feature_by_distance(source, target, Tref, dgr, source_corres_indices, target_corres_indices, threshold):\n",
    "    points0, _, _ = dgr.preprocess(source)\n",
    "    points1, _, _ = dgr.preprocess(target)\n",
    "    source = o3d.geometry.PointCloud()\n",
    "    source.points = o3d.utility.Vector3dVector(points0)\n",
    "    source.transform(Tref)\n",
    "    points0 = np.asarray(source.points)\n",
    "    \n",
    "    source_corres_points = points0[source_corres_indices.T[0]]\n",
    "    target_corres_points = points1[target_corres_indices.T[0]].numpy()\n",
    "    feature_point_distances = np.linalg.norm(source_corres_points - target_corres_points, axis=1)\n",
    "    return feature_point_distances < threshold, feature_point_distances\n",
    "    \n",
    "\n",
    "def paint_outlier_of_correspondence(pcd, validated_indices):\n",
    "    pcd = copy.deepcopy(pcd)\n",
    "    pcd.colors = o3d.utility.Vector3dVector(np.array(\n",
    "        [[1, 0, 0] if i[0] < 0 else [0, 0, 0] for i in validated_indices]\n",
    "    ))\n",
    "    return pcd"
   ]
  },
  {
   "cell_type": "code",
   "execution_count": 6,
   "id": "68a0fd43-b508-4e2a-83de-bf8e1f4e9afb",
   "metadata": {},
   "outputs": [],
   "source": [
    "def draw_correspondence_sets(\n",
    "    source, target, Tref, dgr, distance_threshold, translate=[0, 0, 0], mutual_filter=False):\n",
    "    \"\"\"\n",
    "    2つの点群の特徴点の対応関係を可視化する\n",
    "    \n",
    "    sourceの特徴点と最も似ているtargetの特徴点の間を緑の直線で結ぶ。\n",
    "    \"\"\"\n",
    "    points0, _, _ = dgr.preprocess(source)\n",
    "    points1, _, _ = dgr.preprocess(target)\n",
    "    source_view = o3d.geometry.PointCloud()\n",
    "    source_view.points = o3d.utility.Vector3dVector(points0)\n",
    "    source_view.transform(Tref).translate(translate)\n",
    "    target_view = o3d.geometry.PointCloud()\n",
    "    target_view.points = o3d.utility.Vector3dVector(points1)\n",
    "    \n",
    "    self_corres_idx, feature_corres_idx, _ = extract_correspondence_FCGF_set(source, target, dgr, mutual_filter=mutual_filter)\n",
    "    valid_correspondence, _ = validate_correspondence_feature_by_distance(source, target, Tref, dgr, self_corres_idx, feature_corres_idx, distance_threshold)\n",
    "    \n",
    "    self_inlier_idx = self_corres_idx[valid_correspondence]\n",
    "    self_outlier_idx = self_corres_idx[~valid_correspondence]\n",
    "    inlier_idx = feature_corres_idx[valid_correspondence]\n",
    "    outlier_idx = feature_corres_idx[~valid_correspondence]\n",
    "    \n",
    "    \n",
    "    def create_line_set(source, target, corres_source, corres_target, color_as_rgb_array):\n",
    "        num_corrs = len(corres_source)\n",
    "        points = np.concatenate((np.asarray(source.points)[corres_source], np.asarray(target.points)[corres_target]),axis=0)\n",
    "        translated_points = []\n",
    "        lines = []\n",
    "        colors = []\n",
    "        for i in range(num_corrs):\n",
    "            lines.append([i,i+num_corrs])\n",
    "            dist = np.linalg.norm(points[i] - points[i + num_corrs])\n",
    "            colors.append([])\n",
    "        colors = [color_as_rgb_array for i in range(len(lines))] # lines are shown in green\n",
    "        \n",
    "        line_set = o3d.geometry.LineSet(\n",
    "            points=o3d.utility.Vector3dVector(points),\n",
    "            lines=o3d.utility.Vector2iVector(lines),\n",
    "        )\n",
    "        line_set.colors = o3d.utility.Vector3dVector(colors)\n",
    "        return line_set\n",
    "        \n",
    "    \n",
    "    green = [0, 1, 0]\n",
    "    red = [1, 0, 0]\n",
    "    \n",
    "    if len(self_inlier_idx.shape) == 1:\n",
    "        nearest_lines_inlier = []\n",
    "    else: \n",
    "        nearest_lines_inlier = [create_line_set(source_view, target_view, self_inlier_idx[:, 0], inlier_idx[:, 0], green)]\n",
    "    \n",
    "    nearest_lines_outlier = [create_line_set(source_view, target_view, self_outlier_idx[:, 0], outlier_idx[:, 0], red)]\n",
    "    \n",
    "    o3d.visualization.draw_geometries(\n",
    "        [source_view, target_view]\n",
    "         + nearest_lines_inlier + nearest_lines_outlier \n",
    "    )\n",
    "\n",
    "def evaluate_successful_feature_correspondence(source, target, Tref, dgr, distance_threshold):\n",
    "    self_corres_idx, feature_corres_idx, _ = extract_correspondence_FCGF_set(source, target, dgr)\n",
    "    valid_correspondence, _ = validate_correspondence_feature_by_distance(source, target, Tref, dgr, self_corres_idx, feature_corres_idx, distance_threshold)\n",
    "    self_inlier_idx = self_corres_idx[valid_correspondence]\n",
    "    self_outlier_idx = self_corres_idx[~valid_correspondence]\n",
    "    \n",
    "    return {\n",
    "        \"source_voxel_count\": len(source.points),\n",
    "        \"target_voxel_count\": len(target.points),\n",
    "        \"correspondence_count\": len(feature_corres_idx),\n",
    "        \"successful_correspondence_ratio\": len(self_inlier_idx) / len(feature_corres_idx)\n",
    "    }"
   ]
  },
  {
   "cell_type": "code",
   "execution_count": 7,
   "id": "738b2b3c-7d8a-45d6-9f8d-9d8f68783985",
   "metadata": {},
   "outputs": [],
   "source": [
    "source = o3d.io.read_point_cloud(\"/mnt/h/fumipo/investigate-open3d/internal_only_data/2022-04-18_filter_less_feature_parts/20220418_map4_observer1/20220418_004428_tmpqrb2yrgd.ply\")\n",
    "target = o3d.io.read_point_cloud(\"/mnt/h/fumipo/investigate-open3d/internal_only_data/2022-04-18_filter_less_feature_parts/original_point_cloud/access_7F.ply\")"
   ]
  },
  {
   "cell_type": "code",
   "execution_count": 8,
   "id": "84da5324-f934-49ec-98dc-f2236114edb0",
   "metadata": {},
   "outputs": [
    {
     "name": "stdout",
     "output_type": "stream",
     "text": [
      "=> loading checkpoint 'ResUNetBN2C-feat32-3dmatch-v0.05.pth'\n",
      "=> Setting voxel size to 0.05\n",
      "=> loading finished\n"
     ]
    }
   ],
   "source": [
    "config = get_config()\n",
    "if config.weights is None:\n",
    "    config.weights = DOWNLOAD_LIST[-1][-1]\n",
    "    dgr = DeepGlobalRegistration(config)\n",
    "    dgr.network_config.nn_max_n = 5 # Reduce GPU memory allocation error\n"
   ]
  },
  {
   "cell_type": "code",
   "execution_count": 21,
   "id": "11e1fb3c-828a-45f3-9d8f-32c7d36496d2",
   "metadata": {},
   "outputs": [],
   "source": [
    "Tref = np.array([[ 9.49739847e-01,  1.14215300e-02, -3.12831858e-01, -4.15828957e+00],\n",
    " [-3.12687363e-01, -1.28270923e-02, -9.49769487e-01, -2.55637682e+01],\n",
    " [-1.48605438e-02,  9.99852496e-01, -8.61103263e-03, -1.16293487e-01],\n",
    " [ 0.00000000e+00,  0.00000000e+00,  0.00000000e+00, 1.00000000e+00]])\n",
    "bbox_center = [-5.55853224, -23.76529503]\n",
    "\n",
    "source.estimate_normals()\n",
    "target_subset = crop_pcd_by_cylinder(target, bbox_center, 5)\n",
    "target_subset.estimate_normals()\n",
    "\n",
    "draw_correspondence_sets(source, target_subset, Tref, dgr, 1, [0, 0, -5])\n",
    "torch.cuda.empty_cache()"
   ]
  },
  {
   "cell_type": "code",
   "execution_count": 22,
   "id": "b758648e-f5b2-4a34-888d-057c41b5e1f8",
   "metadata": {},
   "outputs": [
    {
     "data": {
      "text/plain": [
       "{'source_voxel_count': 23278,\n",
       " 'target_voxel_count': 7464067,\n",
       " 'correspondence_count': 15850,\n",
       " 'successful_correspondence_ratio': 0.0029022082018927446}"
      ]
     },
     "execution_count": 22,
     "metadata": {},
     "output_type": "execute_result"
    }
   ],
   "source": [
    "evaluate_successful_feature_correspondence(source, target_subset, Tref, dgr, 1)"
   ]
  },
  {
   "cell_type": "code",
   "execution_count": 9,
   "id": "f7a3f2d5-54ec-4b61-a8e8-c9231d54d251",
   "metadata": {},
   "outputs": [],
   "source": [
    "def evaluate_FCGF_successful_pair(source, target, radiuses, Tref, bbox_center, dgr, distance_threshold):\n",
    "    results = []\n",
    "    for radius in tqdm(radiuses):\n",
    "        source.estimate_normals()\n",
    "    \n",
    "        target_subset = crop_pcd_by_cylinder(target, bbox_center, radius)\n",
    "        target_subset.estimate_normals()\n",
    "        res = evaluate_successful_feature_correspondence(source, target_subset, Tref, dgr, distance_threshold)\n",
    "        extra_info = dict(\n",
    "            radius=radius\n",
    "        )\n",
    "        results.append(res | extra_info)\n",
    "        torch.cuda.empty_cache()\n",
    "    return results\n",
    "\n",
    "\n",
    "import matplotlib.ticker as ticker\n",
    "\n",
    "def plot_ratio(result_df):\n",
    "    fig, axes = Figure().add_subplot(\n",
    "        Subplot().add(\n",
    "            data=result_df,\n",
    "            x=\"radius\",\n",
    "            y=\"successful_correspondence_ratio\",\n",
    "            xlabel=\"crop radius\",\n",
    "            ylabel=\"ratio\",\n",
    "            ylim=[0, 0.5],\n",
    "            plot=[\n",
    "                pa.line(),\n",
    "                pa.set_grid(axis=\"y\")\n",
    "            ],\n",
    "        ),\n",
    "        Subplot().add(\n",
    "            data=result_df,\n",
    "            x=\"target_voxel_count\",\n",
    "            y=\"successful_correspondence_ratio\",\n",
    "            xlabel=\"target voxel count\",\n",
    "            ylabel=\"ratio\",\n",
    "            ylim=[0, 0.5],\n",
    "            plot=[\n",
    "                pa.line(),\n",
    "                pa.set_grid(axis=\"y\")\n",
    "            ],\n",
    "        )\n",
    "    ).show(size=(8, 6), column=2)\n",
    "    \n",
    "    for ax in axes.values():\n",
    "        ax.yaxis.set_major_locator(ticker.MultipleLocator(0.05))"
   ]
  },
  {
   "cell_type": "code",
   "execution_count": 14,
   "id": "c21d6ea1-ce87-4308-87e0-b6a218d03754",
   "metadata": {},
   "outputs": [
    {
     "name": "stderr",
     "output_type": "stream",
     "text": [
      "100%|█████████████████████████████████████████████████████████████████████████████████████████████████████████████████████████████████████████████████████████████████████████████████████████████████████████████████████████████████████████████████████████████| 69/69 [1:39:05<00:00, 86.17s/it]\n"
     ]
    }
   ],
   "source": [
    "source = o3d.io.read_point_cloud(\"/mnt/h/fumipo/investigate-open3d/internal_only_data/2022-04-18_filter_less_feature_parts/20220418_map4_observer1/20220418_004428_tmpqrb2yrgd.ply\")\n",
    "Tref = np.array([[ 9.49739847e-01,  1.14215300e-02, -3.12831858e-01, -4.15828957e+00],\n",
    " [-3.12687363e-01, -1.28270923e-02, -9.49769487e-01, -2.55637682e+01],\n",
    " [-1.48605438e-02,  9.99852496e-01, -8.61103263e-03, -1.16293487e-01],\n",
    " [ 0.00000000e+00,  0.00000000e+00,  0.00000000e+00, 1.00000000e+00]])\n",
    "bbox_center = [-5.55853224, -23.76529503]\n",
    "\n",
    "radiuses = np.arange(0.5, 35, 0.5)\n",
    "\n",
    "result = evaluate_FCGF_successful_pair(source, target, radiuses, Tref, bbox_center, dgr, 1)\n",
    "result_df = pd.DataFrame.from_records(result)"
   ]
  },
  {
   "cell_type": "code",
   "execution_count": 15,
   "id": "28371ccd-f9d2-4007-b2db-f08057fc05b3",
   "metadata": {},
   "outputs": [
    {
     "data": {
      "image/png": "[encoded data removed]",
      "text/plain": [
       "<Figure size 1224x432 with 2 Axes>"
      ]
     },
     "metadata": {},
     "output_type": "display_data"
    }
   ],
   "source": [
    "plot_ratio(result_df)"
   ]
  },
  {
   "cell_type": "code",
   "execution_count": null,
   "id": "97b6ead9-360a-4a6b-b309-cb012374c5a1",
   "metadata": {},
   "outputs": [],
   "source": []
  }
 ],
 "metadata": {
  "kernelspec": {
   "display_name": "Python 3 (ipykernel)",
   "language": "python",
   "name": "python3"
  },
  "language_info": {
   "codemirror_mode": {
    "name": "ipython",
    "version": 3
   },
   "file_extension": ".py",
   "mimetype": "text/x-python",
   "name": "python",
   "nbconvert_exporter": "python",
   "pygments_lexer": "ipython3",
   "version": "3.9.12"
  }
 },
 "nbformat": 4,
 "nbformat_minor": 5
}
